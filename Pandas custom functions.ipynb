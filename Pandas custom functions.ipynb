{
 "cells": [
  {
   "cell_type": "code",
   "execution_count": 2,
   "id": "50b2895b",
   "metadata": {},
   "outputs": [],
   "source": [
    "import pandas as pd"
   ]
  },
  {
   "cell_type": "code",
   "execution_count": 6,
   "id": "cfcf23d3",
   "metadata": {},
   "outputs": [],
   "source": [
    "df = pd.read_excel(\"Example.xlsx\", sheet_name=0)"
   ]
  },
  {
   "cell_type": "code",
   "execution_count": 17,
   "id": "d0171df1",
   "metadata": {},
   "outputs": [
    {
     "data": {
      "text/plain": [
       "0    The A1 is a F\n",
       "1    The A2 is a M\n",
       "2    The A3 is a F\n",
       "3    The A4 is a M\n",
       "4    The A5 is a F\n",
       "5    The A6 is a M\n",
       "6    The A7 is a F\n",
       "7    The A8 is a M\n",
       "8    The A9 is a F\n",
       "dtype: object"
      ]
     },
     "execution_count": 17,
     "metadata": {},
     "output_type": "execute_result"
    }
   ],
   "source": [
    "df.apply(lambda x : f'The {x[\"Nom\"]} is a {x[\"Sexe\"]}', axis=1)"
   ]
  }
 ],
 "metadata": {
  "kernelspec": {
   "display_name": "Python 3 (ipykernel)",
   "language": "python",
   "name": "python3"
  },
  "language_info": {
   "codemirror_mode": {
    "name": "ipython",
    "version": 3
   },
   "file_extension": ".py",
   "mimetype": "text/x-python",
   "name": "python",
   "nbconvert_exporter": "python",
   "pygments_lexer": "ipython3",
   "version": "3.11.5"
  }
 },
 "nbformat": 4,
 "nbformat_minor": 5
}
