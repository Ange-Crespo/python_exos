{
 "cells": [
  {
   "cell_type": "code",
   "execution_count": 5,
   "id": "22df9297",
   "metadata": {},
   "outputs": [],
   "source": [
    "import win32com.client\n",
    "ol = win32com.client.Dispatch('Outlook.Application')"
   ]
  },
  {
   "cell_type": "code",
   "execution_count": 6,
   "id": "9911efca",
   "metadata": {},
   "outputs": [],
   "source": [
    " # size of the new email\n",
    "olmailitem = 0x0\n",
    "newmail = ol.CreateItem(olmailitem)\n",
    "newmail.To = 'ange.crespo@hotmail.fr'\n",
    "newmail.CC = 'crespo.ange@gmail.com'\n",
    "newmail.BCC = 'ange.crespo@hotmail.fr'\n",
    "newmail.Subject= 'Testing Mail'\n",
    "newmail.Body= 'Hello, this is a test email to showcase how to send emails from Python and Outlook.'\n",
    "\n",
    "# Example of Attachement : \n",
    "#attach = 'E://Onedrive//Images//tulip.jpg'\n",
    "#newmail.Attachments.Add(attach)\n",
    "\n",
    "newmail.Display()"
   ]
  },
  {
   "cell_type": "code",
   "execution_count": 3,
   "id": "23e116e9",
   "metadata": {},
   "outputs": [],
   "source": [
    "newmail.Send()"
   ]
  }
 ],
 "metadata": {
  "kernelspec": {
   "display_name": "Python 3 (ipykernel)",
   "language": "python",
   "name": "python3"
  },
  "language_info": {
   "codemirror_mode": {
    "name": "ipython",
    "version": 3
   },
   "file_extension": ".py",
   "mimetype": "text/x-python",
   "name": "python",
   "nbconvert_exporter": "python",
   "pygments_lexer": "ipython3",
   "version": "3.11.5"
  }
 },
 "nbformat": 4,
 "nbformat_minor": 5
}
